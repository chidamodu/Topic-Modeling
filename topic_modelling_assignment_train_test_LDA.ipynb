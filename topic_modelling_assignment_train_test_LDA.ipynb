{
 "cells": [
  {
   "cell_type": "code",
   "execution_count": 2,
   "metadata": {
    "collapsed": true
   },
   "outputs": [],
   "source": [
    "def convert_dict(fname):#this function is to convert json dictionary into a python dictionary and do little bit of text-cleaning   \n",
    "    doc=[]\n",
    "    result_title=[]\n",
    "    result_text=[]\n",
    "    ans_text=[]\n",
    "    ball=[]\n",
    "\n",
    "    with open(fname, 'r') as fi:\n",
    "        for i in fi:\n",
    "            null=None#as there are null values in the json dictionary, so converting them as None\n",
    "            doc.append(eval(i))#converting a json dict into a python dict. tried to do this conversion using ast.literal_eval which is much safer than eval since it will only evaluate strings which contain literals\n",
    "            #but that posed an error because of \"string\" literal in the json dictionary\n",
    "    for ele in doc:#get the values from the python dictionary, doc and appending the values to two separate lists \n",
    "        if \"text\" in ele:\n",
    "            result_text.append(str(ele[\"text\"]).lower().replace(\"\\n\", \"\").replace(\"/\", \"\"))#getting values of the dictionary key: text and appending it to result_text\n",
    "        if \"title\" in ele:\n",
    "            result_title.append(str(ele[\"title\"]).lower().replace(\"\\n\", \"\").replace(\"/\", \"\"))#getting values of the dictionary key: title and appending it to result_title\n",
    "    return result_text, result_title\n",
    "\n",
    "def stop_lemmatize(rtext):#this function comprises preprocessing steps re cleaning the text: first tokenize after removing punctuation, second remove insignificant words that can be found in stopwords\n",
    "    #third use WordNetLemmatizer to get common base form of words. I ended up doing all these steps manually as the CountVectorizer do not have lemmatization in play\n",
    "    from nltk.tokenize import word_tokenize\n",
    "    from nltk.stem.wordnet import WordNetLemmatizer\n",
    "    from nltk.corpus import stopwords\n",
    "    import string\n",
    "    rtext = [''.join(c for c in s if c not in string.punctuation) for s in rtext]#removing punctuation\n",
    "    docs = [word_tokenize(content) for content in rtext]#tokenizing the texts into words\n",
    "    stop = set(stopwords.words('english'))\n",
    "    wordnet = WordNetLemmatizer()\n",
    "    doc_fair = [[word for word in words if word not in stop] for words in docs]#removing words that are in stopwords\n",
    "    docs_w = [' '.join(wordnet.lemmatize(w1).replace(\"‘\", '').replace(\"’\", '').replace(\"'\", '') for w1 in w2) for w2 in doc_fair]#lemmatizing to get a common base form of words. finally joining the words to get a neat list of strings to pass in to the CountVectorizer\n",
    "    return docs_w\n",
    "\n",
    "def final_lists(f_name):\n",
    "    result_text, result_title = f_name\n",
    "    docs_wordnet=stop_lemmatize(result_text)\n",
    "    docs_wordnet_title=stop_lemmatize(result_title)\n",
    "    return docs_wordnet, docs_wordnet_title"
   ]
  },
  {
   "cell_type": "code",
   "execution_count": 3,
   "metadata": {
    "collapsed": true
   },
   "outputs": [],
   "source": [
    "#assigning the outcome of the above function: final_lists to a dataframe columns for an easy access to get the titles to associate with the clusters to get an idea \n",
    "#on how the algorithm have grouped the texts\n",
    "df1=pd.DataFrame()\n",
    "df1['text_document'], df1['title']=final_lists(convert_dict(\"/Users/user_name/Downloads/corpus.txt\"))\n",
    "                                               "
   ]
  },
  {
   "cell_type": "code",
   "execution_count": 4,
   "metadata": {},
   "outputs": [
    {
     "data": {
      "text/html": [
       "<div>\n",
       "<style>\n",
       "    .dataframe thead tr:only-child th {\n",
       "        text-align: right;\n",
       "    }\n",
       "\n",
       "    .dataframe thead th {\n",
       "        text-align: left;\n",
       "    }\n",
       "\n",
       "    .dataframe tbody tr th {\n",
       "        vertical-align: top;\n",
       "    }\n",
       "</style>\n",
       "<table border=\"1\" class=\"dataframe\">\n",
       "  <thead>\n",
       "    <tr style=\"text-align: right;\">\n",
       "      <th></th>\n",
       "      <th>text_document</th>\n",
       "      <th>title</th>\n",
       "    </tr>\n",
       "  </thead>\n",
       "  <tbody>\n",
       "    <tr>\n",
       "      <th>0</th>\n",
       "      <td>joe raedlegetty imageslast week wrote story sl...</td>\n",
       "      <td>reason skeptical teslapowered puerto rico</td>\n",
       "    </tr>\n",
       "    <tr>\n",
       "      <th>1</th>\n",
       "      <td>zach boydenholmesthe registerpolice identified...</td>\n",
       "      <td>police threat west de moines student work copycat</td>\n",
       "    </tr>\n",
       "    <tr>\n",
       "      <th>2</th>\n",
       "      <td>chicago police investigating whether stephen p...</td>\n",
       "      <td>gunman reserved two room blackstone</td>\n",
       "    </tr>\n",
       "    <tr>\n",
       "      <th>3</th>\n",
       "      <td>nashville tenn 5 georgia coming two impressive...</td>\n",
       "      <td>5 georgia bulldog vanderbilt commodore preview...</td>\n",
       "    </tr>\n",
       "    <tr>\n",
       "      <th>4</th>\n",
       "      <td></td>\n",
       "      <td>craig robinson adam scott buddy fox supernatur...</td>\n",
       "    </tr>\n",
       "  </tbody>\n",
       "</table>\n",
       "</div>"
      ],
      "text/plain": [
       "                                       text_document  \\\n",
       "0  joe raedlegetty imageslast week wrote story sl...   \n",
       "1  zach boydenholmesthe registerpolice identified...   \n",
       "2  chicago police investigating whether stephen p...   \n",
       "3  nashville tenn 5 georgia coming two impressive...   \n",
       "4                                                      \n",
       "\n",
       "                                               title  \n",
       "0          reason skeptical teslapowered puerto rico  \n",
       "1  police threat west de moines student work copycat  \n",
       "2                gunman reserved two room blackstone  \n",
       "3  5 georgia bulldog vanderbilt commodore preview...  \n",
       "4  craig robinson adam scott buddy fox supernatur...  "
      ]
     },
     "execution_count": 4,
     "metadata": {},
     "output_type": "execute_result"
    }
   ],
   "source": [
    "df1.head()"
   ]
  },
  {
   "cell_type": "code",
   "execution_count": 84,
   "metadata": {
    "collapsed": true
   },
   "outputs": [],
   "source": [
    "from sklearn.feature_extraction.text import TfidfVectorizer, CountVectorizer\n",
    "n_features =15000\n",
    "\n",
    "tf_v = CountVectorizer(max_df=0.95, min_df=1, max_features=n_features, lowercase=False)#lowercase=False as the texts were converted into lowercase in the above steps\n",
    "tf_x = tf_v.fit_transform(df1['text_document'])#to get X_values\n"
   ]
  },
  {
   "cell_type": "code",
   "execution_count": 85,
   "metadata": {
    "collapsed": true
   },
   "outputs": [],
   "source": [
    "#To get y_values - just for labelling\n",
    "tf_y = tf_v.fit_transform(df1['title'])"
   ]
  },
  {
   "cell_type": "code",
   "execution_count": 62,
   "metadata": {
    "collapsed": true
   },
   "outputs": [],
   "source": [
    "#Tried to split the datset into train and test and compare how well the model does. But did not have time to get this to work'\n",
    "from sklearn.model_selection import train_test_split\n",
    "X_train, X_test, y_train, y_test = train_test_split(tf_x, tf_y, test_size=0.20, random_state=42)"
   ]
  },
  {
   "cell_type": "code",
   "execution_count": 65,
   "metadata": {
    "collapsed": true
   },
   "outputs": [],
   "source": [
    "#To fit LDA on X_train\n",
    "from sklearn.decomposition import LatentDirichletAllocation\n",
    "n_components = 60\n",
    "lda = LatentDirichletAllocation(n_components=n_components, doc_topic_prior=0.83, topic_word_prior=0.1, learning_method='online', learning_offset=50.,random_state=0)\n",
    "lda1=lda.fit(X_train)"
   ]
  },
  {
   "cell_type": "code",
   "execution_count": 78,
   "metadata": {
    "collapsed": true
   },
   "outputs": [],
   "source": [
    "def print_top_words(model, feature_names, n_top_words):#this function finds the top words(taken from sklearn)\n",
    "    for topic_idx, topic in enumerate(model.components_):\n",
    "        message = \"Topic #%d: \" % topic_idx\n",
    "        message += \" \".join([feature_names[i] for i in topic.argsort()[:-n_top_words -1:-1]])\n",
    "        print(message)\n",
    "    print()"
   ]
  },
  {
   "cell_type": "code",
   "execution_count": 79,
   "metadata": {
    "scrolled": true
   },
   "outputs": [
    {
     "name": "stdout",
     "output_type": "stream",
     "text": [
      "Topic #0: enbd succeed collect postpones pot subvert link simcyp unwittingly dastyaris wiley hitting poof affecting p20 achieve coldshooting shaking buildadapp plaza\n",
      "Topic #1: pioneering krishna bezel simcyp telegram persisted taxpayer affecting wiley welding experience upgraded trumpcard positek provider yoyo dennis concussion patient pathway\n",
      "Topic #2: laptop simcyp booming taxpayer expectation pageant mahoney yoyo wrestlemania trumpcard papal eelo persisted men positek benghazi petal upgraded dastyaris poof\n",
      "Topic #3: pinpoint aggravated defenseman elías louisiana satriani shaking remitly peru seeing waterford chides marcus affecting stable troy soundtrack ntp yoyo simcyp\n",
      "Topic #4: biometric politics simcyp taxpayer hitting qualifying persisted turbine yearender apra positek midfielder upgraded yoyo affecting trumpcard coldshooting net rolet mahoney\n",
      "Topic #5: slaughterbots affecting poof taxpayer upgraded provider positek ago yearender tipped simcyp mahoney persisted yoyo qualifying penalty trumpcard ocm bezel canadiens\n",
      "Topic #6: bullied taxpayer positek simcyp affecting authorpalooza trumpcard tipped yoyo sworn durability yearender pageant dyer upgraded mahoney persisted net weekday therell\n",
      "Topic #7: dorchester rebranding coolness brass 2007 dreamer protestors sub panorama coffeetable encouraged woodards doyle health bridging bd method spanish fastest assange\n",
      "Topic #8: conference accrington mandela mediterranean child stub deported silver underground knox pony keuchel crosshairs trait explosive cinema careful spotted canadiens seaquest\n",
      "Topic #9: caliphate simcyp taxpayer positek yoyo persisted wiley mahoney qualifying trumpcard upgraded affecting fatal buildadapp daugherty dyer brandwatchs prodrop provider ellen\n",
      "Topic #10: syndicate taxpayer persisted yoyo simcyp ntp positek affecting trumpcard fake bezel dyer mahoney upgraded petal coldshooting openscholar provider us 6a\n",
      "Topic #11: bread pac breadtalk ubs aviv bolster arnautovic biopharmas midfielder 6game repairer climb ayodhya ucf crossshareholding cheryl discontinued classaction voicecontrolled spata\n",
      "Topic #12: seaquest vrabel tatas bezel taxpayer 6a upgraded early pony simcyp yoyo positek provider trumpcard yadavs affecting pebacked bmw simbu buildadapp\n",
      "Topic #13: emirate coldshooting mom 25b tumble underworld outpoints venetian corbyn would taotronics 6408 wouldbe kerala yoyo simcyp millennials telengana binding plaza\n",
      "Topic #14: background lcom september simcyp realm taxpayer persisted mahoney trumpcard upgraded yoyo positek affecting spanish rating wiley dear kerala omeros aj\n",
      "Topic #15: simcyp yearender yoyo persisted affecting trumpcard dennis provider positek taxpayer inspiring upgraded mahoney nikola midfielder rating tipped cosmetic alvin fake\n",
      "Topic #16: tired simcyp sincere comply taxpayer affecting rjd upgraded yoyo persisted positek page pony peru trumpcard combine fake rating dyer fate\n",
      "Topic #17: zwift megacity paradigm pebacked lazard type parade authorpalooza tenth streak england investigate amid bulgari ruledlatin warning storage quiz product eye\n",
      "Topic #18: recessed evening 100000 sworn snow 11093 bundesliga 108100 susceptible took worldfirst piyush marco 117113 121112 smartmobe 197 13000 colossus 1499\n",
      "Topic #19: hail mutilated worldleading widening dastyaris undersea stretching simcyp rosa unnoticed yoyo persisted 7nm disruptmining taxpayer provider coldshooting hitting mahoney petal\n",
      "Topic #20: forecast special yoyo qualifying positek coffeehouse shaking simcyp attracting dyer persisted affecting stave taxpayer leaf slaughterbots tried gone mahoney upgraded\n",
      "Topic #21: hm titanic pray touched reshape trafficking coveted capacity webinar token remote baltimore 108100 eelo silicon fake maria feelgood krol designagown\n",
      "Topic #22: alpine whine shaw kerala chides u20 interim kurrent satirical unitus penalty lung undefeated davidson aerobic actual oriordan seems 7nm annual\n",
      "Topic #23: simcyp unknown yearender finally remitly sworn paris china otcqx psychopath qualifying poof chides turbine cheryl reconvenes dreamland blasting kypson recommended\n",
      "Topic #24: brandwatchs clerk buildadapp christensen tut yoyo affecting pageant simcyp taxpayer tried net softperfect persisted mahoney dyer upgraded apra electronic 6a\n",
      "Topic #25: canadiens spanish benghazi nursery resist torn code clip timber investor stun persisted fear island reacted pennsylvania soft nonresident grooming contributor\n",
      "Topic #26: britain soa dyer trek spacewalker clueless mull salvadoran airdroplike fun williamson evening bamboo trumpcard im norfolk supporter yadavs bunch ltd\n",
      "Topic #27: taxpayer simcyp persisted affecting upgraded yoyo yearender net positek cosmetic petal fake dyer trumpcard wiley tipped cairn 20000 coldshooting zoom\n",
      "Topic #28: reggie tropical hat simcyp taxpayer placement affecting sworn upgraded positek persisted 6a poof sellwoods cairn dyer subvert alvin stave provider\n",
      "Topic #29: effect taxpayer subvert simcyp peru windsor wiley affecting yoyo positek trumpcard affected nikola stave persisted upgraded ocm sworn bannister chides\n",
      "Topic #30: oldman strollerville stefanovic colton postal anything vogue peru trumpcard tesla zeltner selfpublishing guinea canadiens persisted startling broadcast simcyp marilyn 6a\n",
      "Topic #31: recognizing nominated poo bomb simcyp turbine insolvency ellen amanda ondo ceiling maintenx upgraded xbox talktalk palo terrier bhps dakar tut\n",
      "Topic #32: payback 1m 1st worse relies rating biogas yadavs positek yoyo net taxpayer affecting electronic dickson chart tvos salvadoran trumpcard tipped\n",
      "Topic #33: allegation persisted midfielder duckhunting dreadful positek rajshahi controlling tanehisi affecting passport alig kozhikode avon stable viralytics audio unveiled apologise bakery\n",
      "Topic #34: 62p wanda periodontist corbyn udall ambulance snommegang royal centre dining despairing tvwatching womanmonster clint peru emirate 25b adilabad terri berlusconi\n",
      "Topic #35: cohn taxpayer affecting tao grooming mainland simcyp yoyo inspiring pasadena persisted trumpcard upgraded mahoney positek provider xperia feelgood tipped azure\n",
      "Topic #36: p20 refocus petal simcyp taxpayer yoyo yadavs chides persisted mahoney upgraded trumpcard wiley affecting stave dyer tipped net positek coldshooting\n",
      "Topic #37: reflects taxpayer positek stable simcyp yoyo trumpcard 20000 peru affecting mahoney net yearender gone ntp ongoing qualifying persisted bezel oprah\n",
      "Topic #38: taxpayer steinhoff simcyp persisted yoyo stave update dyer upgraded aj positek trumpcard electronic unnoticed westbrooks affecting mahoney 6a wiley pony\n",
      "Topic #39: health automaker seligman berger purcell persisted psg replaces million pageant affecting dunst songwriter yearender russia simcyp takata sacramento intention slaughterbots\n",
      "Topic #40: techloopio security big pulling sedation cure underpaying bogo coward grade rick sharkspotting duo ellen buena smallbusiness azmis ocm us227tr suu\n",
      "Topic #41: slump tech veggie campos rest debicki sworn brass qualifying richards child bv fred yoyo xperia bromance creek tonya bolder pebacked\n",
      "Topic #42: governor biovendor okeechobee qualifying hilarious cytel duterte collins bacteriological pulling croda brass carpet blasting degree airport apps grooming efficiency method\n",
      "Topic #43: nurkic rep ftc taxpayer affecting simcyp net rayburn positek apra aj upgraded tried trumpcard wiley provider pony persisted tumble dyer\n",
      "Topic #44: orrin persisted zeltner yoyo swiss mahoney simcyp taxpayer 6a positek gone affecting alexaintegrated trumpcard net stave alvin coldshooting unnoticed aj\n",
      "Topic #45: quarter quantitative orrin canadiens tomi yoyo nursery arnautovic spiky rudolph automation repairer boko 20000 sinhs dunk forged kohn talaq kolb\n",
      "Topic #46: popular affecting nikola mahoney bezel simcyp taxpayer pennsylvania philadancos alaska yoyo guardian biodiesel persisted merger rifle quadruplechasing stave fake phe\n",
      "Topic #47: upgrade 8882 dennis taxpayer peru simcyp net affecting nikola yoyo trumpcard petal provider wiley xbox mahoney takata tessa qualifying 20000\n",
      "Topic #48: tvos dimension taxpayer affecting aj electronic simcyp positek yoyo yadavs persisted upgraded dyer windsor tried tipped mahoney ocm took trumpcard\n",
      "Topic #49: chelsea rayburn protection 360 yearender 20000 ponder bezelfree uma cheryl bhps wilderness positek qualifying ards tumble simcyp fake persisted affecting\n",
      "Topic #50: island sceaux scenario saketh croix consultation accuris dubbo rupee lincoln opposing master soft serbia cme lindsey mirror social persisted anushka\n",
      "Topic #51: simcyp turnaround azzedine taxpayer known upgraded persisted yoyo mahoney positek dyer affecting alvin unnoticed wiley stave brandwatchs trumpcard wildfire caliphate\n",
      "Topic #52: activate collaborative patrol added backup putin atomic civic usc custodial autonomes allstate biaa paris administrative reform clr zee beryllium pfister\n",
      "Topic #53: window rolla simcyp taxpayer yoyo exhaust affecting majority tipped petal trumpcard mahoney positek dyer isi persisted tried qualifying upgraded sworn\n",
      "Topic #54: sparta 1h chides simcyp omeros yoyo stave affecting taxpayer majority persisted norfolk special positek bezel qualifying aviemore richards mahoney throwback\n",
      "Topic #55: persisted taxpayer wiley cairn mahoney yoyo unnoticed 6a dyer affecting trumpcard apra simcyp early fake yearender upgraded positek ocm stave\n",
      "Topic #56: veeva disruptmining search actor persisted simcyp yoyo affecting plaza minister taxpayer trumpcard 7nm yearender positek recognizes liberalism upgraded provider wiley\n",
      "Topic #57: wildfire simcyp taxpayer trumpcard yoyo persisted weve mahoney affecting dyer rating pony positek upgraded 20000 yearender apra fake nikola mouse\n",
      "Topic #58: midfielder positek trumpcard female fake tree local evening treaty apra fg took whitewashed dyer ryan readmission filed yearender qualifying yoyo\n",
      "Topic #59: cyberattacks shouting cycle yoyo simcyp taxpayer mahoney positek upgraded persisted arrives affecting affected runaway wired trumpcard 7nm inspiring dallas yearender\n",
      "\n"
     ]
    }
   ],
   "source": [
    "#The top 20 words in 60 clusters using X-train\n",
    "n_top_words = 20\n",
    "#print(\"\\nTopics in LDA model:\")\n",
    "tf_feature_names = tf_v.get_feature_names()\n",
    "# len(tf_feature_names)\n",
    "print_top_words(lda1, tf_feature_names, n_top_words)"
   ]
  },
  {
   "cell_type": "code",
   "execution_count": 80,
   "metadata": {},
   "outputs": [],
   "source": [
    "#now on to try the model's performance on X_test:\n",
    "lda2=lda.fit(X_test)"
   ]
  },
  {
   "cell_type": "code",
   "execution_count": 83,
   "metadata": {},
   "outputs": [
    {
     "name": "stdout",
     "output_type": "stream",
     "text": [
      "Topic #0: dad taxpayer simcyp inch persisted establish affecting yoyo assassination positek dyer orrin yearender authority plea sixmonth realizing canadiens qualifying ecstatic\n",
      "Topic #1: aussie brill didnt weekday showdown taxpayer 57000 simcyp persisted positek patras choudhary affecting canadiens plea yoyo willie ackman assassination undetermined\n",
      "Topic #2: taxpayer simcyp positek canadiens upgraded yoyo roof plea trulia willie clemsons persisted spring nissan ackman coo nursery yandex dyer dwayne\n",
      "Topic #3: 6game jonathan dcoordinator tinto approach 800k accrington nonprofit norfolk calgary luggage indictment eos burned prosthetic timber icloud pueblo toughest confrontation\n",
      "Topic #4: alarm establish taxpayer simcyp persisted midfielder qualifying yoyo positek clemsons sworn undetermined 2018 sixmonth yearender hazing superfan coldshooting trumpcard swope\n",
      "Topic #5: undetermined taxpayer simcyp nursery suspended superfan scientific willie dwayne spring 57000 plea badgerys ackman bitpay persisted affecting realizing canadiens nissan\n",
      "Topic #6: taxpayer ratfree simcyp clemsons 57000 positek persisted hazing addressed sworn affecting ackman realizing dyer yoyo assassination inch nursery yearender testfires\n",
      "Topic #7: zoo monitor paterson angelichealth ship threemilewide loses antismoking photographer ur ps4 canada taxpayer 11917 delaware judgment powering anexio caliper dynamic\n",
      "Topic #8: arrivederci yandex undetermined taxpayer simcyp dwayne authority yoyo persisted 2018 positek willie frat trumpcard 57000 dyer plea canadiens shorten ackman\n",
      "Topic #9: taxpayer simcyp clemsons willie yoyo positek persisted shorten realizing daugherty authority ackman dyer 57000 nursery hell plea finding wiley nissan\n",
      "Topic #10: paper broadcomqualcomm taxpayer suffer persisted 57000 simcyp yoyo positek ackman snyder clemsons dyer plea realizing patras bubble authority yandex affecting\n",
      "Topic #11: taxpayer willie simcyp affecting 57000 persisted yoyo positek yearender dyer authority trumpcard aera evening mahoney canadiens qualifying plea inch midfielder\n",
      "Topic #12: addressed taxpayer yoyo simcyp 57000 critic superfan positek persisted trumpcard nursery qualifying sworn clemsons upgraded xm affecting canadiens swope caspio\n",
      "Topic #13: taxpayer inch persisted health yoyo simcyp canadiens hazing affecting upgraded positek wanda nursery dyer clemsons spring qualifying plea mahoney trumpcard\n",
      "Topic #14: taxpayer critic simcyp plea persisted yoyo positek authority canadiens upgraded qualifying dyer sworn mahoney baby trumpcard quarter yandex affecting fake\n",
      "Topic #15: genetic skim simcyp taxpayer yoyo ackman hazing persisted zoo yearender brendan midfielder positek trumpcard 57000 realizing orrin canadiens dwayne affecting\n",
      "Topic #16: statistic alhelaissi taxpayer stimulus simcyp badgerys dvd yoyo dwayne positek persisted 2018 ackman affecting canadiens legalweek plea ecstatic patras upgraded\n",
      "Topic #17: clemsons taxpayer simcyp plea dad 57000 undetermined persisted yoyo hazing spring badgerys snyder canadiens durability positek baby willie upgraded brandt\n",
      "Topic #18: molestation orrin norris mob funeral amazon winsupply uma bradie arrives relies veeva sixthgeneration vandal mazda benamis ozarks twothirds bathroom vol\n",
      "Topic #19: ratfree teiichi taxpayer simcyp yoyo persisted positek midfielder badgerys upgraded ecstatic canadiens hometown affecting trumpcard mahoney shorten yearender brings ackman\n",
      "Topic #20: taxpayer simcyp positek persisted dyer qualifying yoyo room nikola ackman affecting testfires upgraded yearender spring midfielder evening slaughterbots willie shorten\n",
      "Topic #21: liam barbie taxpayer simcyp aera ratfree yoyo persisted affecting positek willie ny spring upgraded yadavs plea ackman cheryl wanda wiley\n",
      "Topic #22: nursery canadiens resist stub fear timber sinhs torn orrin 20000 yoyo forged code island stun evidence spanish investor inquiry clip\n",
      "Topic #23: simcyp yoyo persisted positek affecting trumpcard yearender dyer qualifying taxpayer midfielder upgraded canadiens sworn slaughterbots mahoney fake nikola cheryl coldshooting\n",
      "Topic #24: room realizing assassination alarm taxpayer yoyo simcyp 57000 frat affecting persisted plea dyer ackman canadiens establish nissan arrivederci undetermined health\n",
      "Topic #25: taxpayer ecstatic frat simcyp yoyo plea positek persisted health sworn dyer canadiens evening took orrin ackman mahoney midfielder trumpcard qualifying\n",
      "Topic #26: taxpayer simcyp genetic yoyo persisted dwayne testfires canadiens spring positek upgraded patras affecting evening orrin assassination durability ackman trumpcard dyer\n",
      "Topic #27: taxpayer spring simcyp persisted assassination yoyo affecting dyer upgraded positek orrin yearender undetermined 2018 sixmonth evening ackman plea canadiens sworn\n",
      "Topic #28: taxpayer inch willie simcyp persisted positek affecting hazing dyer sworn upgraded brings spring yoyo realizing evening 2018 ackman sixmonth undetermined\n",
      "Topic #29: taxpayer dwayne superfan simcyp yoyo nissan 57000 plea positek ratfree wanda affecting realizing nikola persisted orrin ackman sworn yearender trumpcard\n",
      "Topic #30: shania civilization shook expected funny japan lending taxpayer kidnapped simcyp inch persisted yoyo dwayne undetermined trumpcard canadiens 57000 positek 2018\n",
      "Topic #31: returner britain alpine diaz russia aspirin susceptible sue hockey beguiling tanehisi helicopter loner install marriage health bread contributor cci screening\n",
      "Topic #32: romcom ageing sieht testfires intruder taxpayer 39th hazing plea simcyp hell genetic willie critic yoyo affecting positek persisted snyder superfan\n",
      "Topic #33: taxpayer simcyp persisted yoyo trumpcard dyer affecting sworn wanda yearender orrin hazing sixmonth ackman midfielder canadiens parker positek snyder mahoney\n",
      "Topic #34: aera rushdie brees coleman pervs wikipedia 5foot charlottebased beyonce taxpayer simcyp precommercial yoyo persisted nissan willie nursery yearender positek 57000\n",
      "Topic #35: taxpayer plea simcyp yoyo citigroups persisted affecting sworn caspio superfan canadiens willie scientific ocusoft realizing positek yearender trumpcard spanish brandt\n",
      "Topic #36: taxpayer willie ratfree simcyp dwayne yoyo persisted inch testfires realizing durability 57000 wreck trumpcard cookbook canadiens dyer upgraded hazing positek\n",
      "Topic #37: site taxpayer simcyp assassination positek badgerys yoyo clemsons octopus boffin hazing trumpcard avizia legalweek plea affecting persisted dyer yearender genetic\n",
      "Topic #38: swope taxpayer superfan hazing ackman simcyp clemsons yoyo persisted dyer critic trulia snyder suspended dvd positek 57000 canadiens authority statistic\n",
      "Topic #39: snyder taxpayer 50footer simcyp persisted yoyo affecting positek canadiens nikola fake dyer qualifying slaughterbots trumpcard upgraded mahoney yearender assassination health\n",
      "Topic #40: peterborough taxpayer shole simcyp willie dwayne persisted yoyo critic trulia yearender testfires positek clemsons midfielder authority bitpay ackman undetermined dyer\n",
      "Topic #41: taxpayer persisted simcyp dyer yoyo upgraded affecting plea yearender positek evening trumpcard qualifying midfielder stimulus canadiens mahoney fake authority apra\n",
      "Topic #42: taxpayer simcyp orrin positek yoyo yearender affecting trumpcard persisted dyer qualifying plea fake frat mahoney evening badgerys realizing nursery upgraded\n",
      "Topic #43: taxpayer ecstatic simcyp arrivederci positek octopus affecting realizing dvd upgraded health spring hazing trumpcard trulia plea willie persisted yoyo nissan\n",
      "Topic #44: taxpayer simcyp superfan yoyo persisted yandex positek canadiens sixmonth orrin ackman pxg clemsons affecting yearender coldshooting inch undetermined mahoney dyer\n",
      "Topic #45: simcyp taxpayer persisted yoyo aussie canadiens positek dwayne upgraded trumpcard dyer shorten yearender qualifying net affecting nursery plea clemsons evening\n",
      "Topic #46: taxpayer plea ecstatic simcyp 2018 yoyo persisted affecting authority badgerys 57000 clemsons superfan canadiens willie upgraded dyer trulia testfires ackman\n",
      "Topic #47: taxpayer simcyp canadiens clemsons yoyo yearender affecting positek nikola ackman nissan dyer trumpcard reggie yandex sixmonth persisted cheryl yadavs mahoney\n",
      "Topic #48: taxpayer 57000 ackman simcyp testfires badgerys frat affecting positek realizing roster persisted ecstatic canadiens yandex yoyo hazing plea manafort dyer\n",
      "Topic #49: taxpayer simcyp persisted positek qualifying affecting yearender yoyo dyer 57000 slaughterbots scientific midfielder evening cheryl orrin aussie assassination octopus sworn\n",
      "Topic #50: taxpayer persisted positek yoyo simcyp ostrich health prop yearender midfielder clemsons ddcompound dyer sixmonth affecting qualifying slaughterbots fake nursery ackman\n",
      "Topic #51: taxpayer simcyp baby critic persisted yoyo positek 57000 upgraded fernando sixmonth willie clemsons dyer plea hazing affecting spring statistic realizing\n",
      "Topic #52: scientific taxpayer simcyp willie 2018 yoyo persisted evening positek sixmonth frat fake dyer dwayne canadiens ackman dvd critic authority yearender\n",
      "Topic #53: xm launched lauren economist total taxpayer simcyp yoyo affecting trumpcard realizing positek plea persisted sworn scientific dyer spanish canadiens yearender\n",
      "Topic #54: cookbook taxpayer frat simcyp yoyo persisted affecting positek nissan yearender qualifying evening clemsons undetermined cheryl ecstatic genetic fake trumpcard midfielder\n",
      "Topic #55: seligman efficiency clerk brandon banker brandt item onenightonly graham bellew coylecassidy prompting refused brad oust whine topnotch burnt 88000 dechra\n",
      "Topic #56: taxpayer simcyp dvd yoyo yearender persisted affecting realizing undetermined positek ecstatic aussie quarter canadiens benghazi 57000 nursery dad upgraded trumpcard\n",
      "Topic #57: taxpayer testfires simcyp 57000 yoyo inch hazing ackman persisted clemsons swope shorten dvd undetermined dyer realizing trumpcard dwayne canadiens promote\n",
      "Topic #58: worker ion lambie coffeetable leinster acquisition yorknew adlewyrchu overshadowing person atrocity apps yevgenia 549 limit cutback skywalkers couldve embargo 2027\n",
      "Topic #59: taxpayer yoyo simcyp persisted positek ackman mahoney shorten spring upgraded assassination nikola canadiens nursery trumpcard dwayne plea badgerys evening yearender\n",
      "\n"
     ]
    }
   ],
   "source": [
    "#The top 20 words in 60 clusters using X-test\n",
    "n_top_words = 20\n",
    "#print(\"\\nTopics in LDA model:\")\n",
    "tf_feature_names_test = tf_v.get_feature_names()\n",
    "# len(tf_feature_names)\n",
    "print_top_words(lda2, tf_feature_names_test , n_top_words)"
   ]
  }
 ],
 "metadata": {
  "kernelspec": {
   "display_name": "Python [conda root]",
   "language": "python",
   "name": "conda-root-py"
  },
  "language_info": {
   "codemirror_mode": {
    "name": "ipython",
    "version": 3
   },
   "file_extension": ".py",
   "mimetype": "text/x-python",
   "name": "python",
   "nbconvert_exporter": "python",
   "pygments_lexer": "ipython3",
   "version": "3.5.4"
  }
 },
 "nbformat": 4,
 "nbformat_minor": 2
}
